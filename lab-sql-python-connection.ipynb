{
 "cells": [
  {
   "cell_type": "code",
   "execution_count": 5,
   "metadata": {},
   "outputs": [],
   "source": [
    "import pandas as pd\n",
    "from sqlalchemy import create_engine\n",
    "from getpass import getpass\n",
    "\n"
   ]
  },
  {
   "cell_type": "code",
   "execution_count": 6,
   "metadata": {},
   "outputs": [],
   "source": [
    "def connect_to_sakila(username, password, host, port, database):\n",
    "    username = \"root\"\n",
    "    password = getpass()\n",
    "    host = \"127.0.0.1\"\n",
    "    port = 3306\n",
    "    database = \"sakila\"\n",
    "    \n",
    "\n",
    "    connection_str = f\"mysql+pymysql://{username}:{password}@{host}:{port}/{database}\"\n",
    "\n",
    "\n",
    "    engine = create_engine(connection_str)\n",
    "\n",
    "    return engine"
   ]
  },
  {
   "cell_type": "code",
   "execution_count": 7,
   "metadata": {},
   "outputs": [],
   "source": [
    "def rentals_month(engine, month, year):\n",
    "\n",
    "    query = f\"\"\"\n",
    "    SELECT customer_id, COUNT(*) AS rental_count\n",
    "    FROM rental\n",
    "    WHERE YEAR(rental_date) = {year} AND MONTH(rental_date) = {month}\n",
    "    GROUP BY customer_id\n",
    "    \"\"\"\n",
    "\n",
    "    \n",
    "    rental_data = pd.read_sql_query(query, engine)\n",
    "\n",
    "    return rental_data"
   ]
  },
  {
   "cell_type": "code",
   "execution_count": 8,
   "metadata": {},
   "outputs": [],
   "source": [
    "def rental_count_month(rental_data, month, year):\n",
    "\n",
    "    column_name = f\"rentals_{month}_{year}\"\n",
    "    rental_data.rename(columns={'rental_count': column_name}, inplace=True)\n",
    "\n",
    "    return rental_data"
   ]
  },
  {
   "cell_type": "code",
   "execution_count": 9,
   "metadata": {},
   "outputs": [],
   "source": [
    "def compare_rentals(rental_data_month1, rental_data_month2):\n",
    "    \n",
    "    comparison_df = pd.merge(rental_data_month1, rental_data_month2, on='customer_id', how='outer')\n",
    "    \n",
    "    comparison_df.fillna(0, inplace=True)\n",
    "    \n",
    "    comparison_df['difference'] = comparison_df.iloc[:, 1] - comparison_df.iloc[:, 2]\n",
    "\n",
    "    return comparison_df"
   ]
  },
  {
   "cell_type": "code",
   "execution_count": 10,
   "metadata": {},
   "outputs": [],
   "source": [
    "engine = connect_to_sakila(\"username\", \"password\", \"localhost\", 3306, \"sakila\")"
   ]
  },
  {
   "cell_type": "code",
   "execution_count": null,
   "metadata": {},
   "outputs": [],
   "source": []
  },
  {
   "cell_type": "code",
   "execution_count": null,
   "metadata": {},
   "outputs": [],
   "source": []
  }
 ],
 "metadata": {
  "kernelspec": {
   "display_name": "Python 3",
   "language": "python",
   "name": "python3"
  },
  "language_info": {
   "codemirror_mode": {
    "name": "ipython",
    "version": 3
   },
   "file_extension": ".py",
   "mimetype": "text/x-python",
   "name": "python",
   "nbconvert_exporter": "python",
   "pygments_lexer": "ipython3",
   "version": "3.11.4"
  }
 },
 "nbformat": 4,
 "nbformat_minor": 2
}
